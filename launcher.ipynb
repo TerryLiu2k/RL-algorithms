{
 "cells": [
  {
   "cell_type": "code",
   "execution_count": 6,
   "outputs": [
    {
     "data": {
      "text/plain": "['/Users/liuyuchen/opt/anaconda3/envs/atsc/lib/python3.8/site-packages/ray/thirdparty_files',\n '/Users/liuyuchen/opt/anaconda3/envs/atsc/lib/python3.8/site-packages/ray/pickle5_files',\n '/Users/liuyuchen/PycharmProjects/RL-algorithms',\n '/Users/liuyuchen/PycharmProjects/RL-algorithms',\n '/Users/liuyuchen/opt/anaconda3/envs/atsc/lib/python38.zip',\n '/Users/liuyuchen/opt/anaconda3/envs/atsc/lib/python3.8',\n '/Users/liuyuchen/opt/anaconda3/envs/atsc/lib/python3.8/lib-dynload',\n '',\n '/Users/liuyuchen/opt/anaconda3/envs/atsc/lib/python3.8/site-packages',\n '/Users/liuyuchen/opt/anaconda3/envs/atsc/lib/python3.8/site-packages/IPython/extensions',\n '/Users/liuyuchen/.ipython',\n '/Applications/PyCharm.app/Contents/plugins/python/helpers/pydev',\n '/Applications/PyCharm.app/Contents/plugins/python/helpers-pro/jupyter_debug']"
     },
     "execution_count": 6,
     "metadata": {},
     "output_type": "execute_result"
    }
   ],
   "source": [
    "%load_ext autoreload\n",
    "%autoreload 2\n",
    "import sys\n",
    "sys.path"
   ],
   "metadata": {
    "collapsed": false,
    "pycharm": {
     "name": "#%%\n"
    }
   }
  },
  {
   "cell_type": "code",
   "execution_count": 7,
   "metadata": {
    "collapsed": true
   },
   "outputs": [],
   "source": [
    "import os\n",
    "import numpy as np\n",
    "import ray\n",
    "from algorithms.utils import Config, LogClient, LogServer\n",
    "from algorithms.algorithm import RL\n",
    "\n",
    "os.environ['RAY_OBJECT_STORE_ALLOW_SLOW_STORAGE']='1'"
   ]
  },
  {
   "cell_type": "code",
   "execution_count": 8,
   "outputs": [
    {
     "ename": "ModuleNotFoundError",
     "evalue": "No module named 'algorithms.config.RealNet_MBPO'",
     "output_type": "error",
     "traceback": [
      "\u001B[0;31m---------------------------------------------------------------------------\u001B[0m",
      "\u001B[0;31mModuleNotFoundError\u001B[0m                       Traceback (most recent call last)",
      "\u001B[0;32m<ipython-input-8-3142daf00632>\u001B[0m in \u001B[0;36m<module>\u001B[0;34m\u001B[0m\n\u001B[1;32m     17\u001B[0m \u001B[0;34m\u001B[0m\u001B[0m\n\u001B[1;32m     18\u001B[0m \u001B[0;31m#### algorithm and environment\u001B[0m\u001B[0;34m\u001B[0m\u001B[0;34m\u001B[0m\u001B[0;34m\u001B[0m\u001B[0m\n\u001B[0;32m---> 19\u001B[0;31m \u001B[0;32mfrom\u001B[0m \u001B[0malgorithms\u001B[0m\u001B[0;34m.\u001B[0m\u001B[0mconfig\u001B[0m\u001B[0;34m.\u001B[0m\u001B[0mRealNet_MBPO\u001B[0m \u001B[0;32mimport\u001B[0m \u001B[0mgetArgs\u001B[0m\u001B[0;34m\u001B[0m\u001B[0;34m\u001B[0m\u001B[0m\n\u001B[0m\u001B[1;32m     20\u001B[0m \u001B[0;31m# from algorithms.config.ATSC_MBPO import getArgs\u001B[0m\u001B[0;34m\u001B[0m\u001B[0;34m\u001B[0m\u001B[0;34m\u001B[0m\u001B[0m\n\u001B[1;32m     21\u001B[0m \u001B[0;31m#from algorithms.envs.CACC import CACC_catchup as env_fn\u001B[0m\u001B[0;34m\u001B[0m\u001B[0;34m\u001B[0m\u001B[0;34m\u001B[0m\u001B[0m\n",
      "\u001B[0;31mModuleNotFoundError\u001B[0m: No module named 'algorithms.config.RealNet_MBPO'"
     ]
    }
   ],
   "source": [
    "\"\"\"\n",
    "This section contains run args, separated from args for the RL algorithm and agents\n",
    "\"\"\"\n",
    "args = Config()\n",
    "#### computation\n",
    "os.environ['CUDA_VISIBLE_DEVICES']='1'\n",
    "args.n_thread = 1\n",
    "args.parallel = False\n",
    "args.device = 'cpu'\n",
    "args.n_cpu = 1/2 # per agent, used only if parallel = True\n",
    "args.n_gpu = 0\n",
    "\n",
    "#### general\n",
    "args.debug = True\n",
    "args.test = False # if no training, only test\n",
    "args.profiling = False\n",
    "\n",
    "#### algorithm and environment\n",
    "from algorithms.config.RealNet_MBPO import getArgs\n",
    "# from algorithms.config.ATSC_MBPO import getArgs\n",
    "#from algorithms.envs.CACC import CACC_catchup as env_fn\n",
    "#from algorithms.envs.CACC import CACC_slowdown as env_fn\n",
    "from algorithms.envs.ATSC import ATSCNet as env_fn\n",
    "#from algorithms.envs.ATSC import ATSCGrid as env_fn\n",
    "args.name = 'main'\n",
    "args.radius_q=3\n",
    "args.radius=3\n",
    "\n",
    "#### checkpoint\n",
    "args.init_checkpoint = None\n",
    "args.start_step = 0\n",
    "\n",
    "#### misc\n",
    "args.save_period=1800 # in seconds\n",
    "args.log_period=int(20)\n",
    "args.seed = None\n",
    "\n",
    "algo_args = getArgs(radius_q=args.radius_q, radius=args.radius)\n",
    "agent_args = algo_args.agent_args\n",
    "p_args, q_args, pi_args = agent_args.p_args, agent_args.q_args, agent_args.pi_args\n",
    "\n",
    "#### override\n",
    "#pi_args.update_interval = 10\n",
    "#q_args.update_interval = 10\n",
    "\n",
    "\n",
    "algo_args.env_fn = env_fn\n",
    "args.env_fn = env_fn\n",
    "algo_args.batch_size=128\n",
    "if args.debug:\n",
    "    algo_args.batch_size = 4\n",
    "    algo_args.max_ep_len=2\n",
    "    algo_args.replay_size=1\n",
    "    p_args.model_buffer_size = 4\n",
    "    algo_args.n_warmup=1\n",
    "    algo_args.n_test=1\n",
    "if args.test:\n",
    "    algo_args.n_warmup = 0\n",
    "    algo_args.n_test = 50\n",
    "if args.profiling:\n",
    "    algo_args.batch_size=128\n",
    "    if algo_args.agent_args.p_args is None:\n",
    "        algo_args.n_step = 50\n",
    "    else:\n",
    "        algo_args.n_step = algo_args.batch_size + 10\n",
    "        algo_args.replay_size = 1000\n",
    "        algo_args.n_warmup = algo_args.batch_size\n",
    "    algo_args.n_test = 1\n",
    "    algo_args.max_ep_len = 20\n",
    "if args.seed is None:\n",
    "    args.seed = np.random.randint(65536)\n",
    "\n",
    "agent_args.parallel = args.parallel\n",
    "args.name = f'{args.name}_{env_fn.__name__}_{agent_args.agent.__name__}_{args.seed}'\n",
    "\n",
    "\n",
    "if not p_args is None:\n",
    "    print(f\"rollout reuse:{(p_args.refresh_interval/q_args.update_interval*algo_args.batch_size)/p_args.model_buffer_size}\")\n",
    "# each generated data will be used so many times\n",
    "\n",
    "import torch\n",
    "torch.set_num_threads(args.n_thread)\n",
    "print(f\"n_threads {torch.get_num_threads()}\")\n",
    "print(f\"n_gpus {torch.cuda.device_count()}\")\n",
    "\n",
    "ray.init(ignore_reinit_error = True, num_gpus=len(os.environ['CUDA_VISIBLE_DEVICES'].split(',')))\n",
    "logger = LogServer.remote({'run_args':args, 'algo_args':algo_args}, mute=args.debug or args.test or args.profiling)\n",
    "logger = LogClient(logger)\n",
    "if args.profiling:\n",
    "    import cProfile\n",
    "    cProfile.run(\"RL(logger = logger, run_args=args, **algo_args._toDict()).run()\",\n",
    "                 filename=f'device{args.device}_parallel{args.parallel}.profile')\n",
    "else:\n",
    "    RL(logger = logger, run_args=args, **algo_args._toDict()).run()\n",
    "\n"
   ],
   "metadata": {
    "collapsed": false,
    "pycharm": {
     "name": "#%%\n"
    }
   }
  }
 ],
 "metadata": {
  "kernelspec": {
   "display_name": "Python 3",
   "language": "python",
   "name": "python3"
  },
  "language_info": {
   "codemirror_mode": {
    "name": "ipython",
    "version": 2
   },
   "file_extension": ".py",
   "mimetype": "text/x-python",
   "name": "python",
   "nbconvert_exporter": "python",
   "pygments_lexer": "ipython2",
   "version": "2.7.6"
  }
 },
 "nbformat": 4,
 "nbformat_minor": 0
}