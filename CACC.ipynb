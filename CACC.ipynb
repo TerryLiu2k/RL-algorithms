{
 "cells": [
  {
   "cell_type": "code",
   "execution_count": 1,
   "metadata": {},
   "outputs": [],
   "source": [
    "%load_ext autoreload\n",
    "%autoreload 2\n",
    "\n",
    "from algorithms.envs.NCS.cacc_env import CACCEnv\n",
    "import configparser"
   ]
  },
  {
   "cell_type": "markdown",
   "metadata": {},
   "source": [
    "input: action\n",
    "\n",
    "output: state reward, done, global_reward\n",
    "\n",
    "8 vehicles\n",
    "\n",
    "([v_state, vdiff_state, vhdiff_state, h_state, u_state])\n",
    "\n",
    "v-v_star/v_star, v difference from car', vhdiff, distance from car', acceleration\n",
    "\n",
    "code for vhdiff:\n",
    "        vh = self.ovm.get_vh(self.hs_cur[i_veh])\n",
    "        vhdiff_state = np.clip((vh - self.vs_cur[i_veh]) / VDIFF, -2, 2)\n",
    "basically it tells the agent what vh is. \n",
    "\n",
    "At first all cars dirve at optiaml v, The first car is guided by its headway... \n",
    "\n",
    " here we train NMARL to recommend appropriate (α◦\n",
    ", β◦) for\n",
    "each OVM controller, selected from four levels {(0, 0),(0.5, 0),(0, 0.5),(0.5, 0.5)}\n",
    "\n",
    "For both CACC tasks, we simulate a string of 8 vehicles for 60s, with a 0.1s\n",
    "control interval. Each vehicle observes and shares its headway h, velocity v, and acceleration a to\n",
    "neighbors within two steps. The safety constraints are: h ≥ 1m, v ≤ 30m/s, |a| ≤ 2.5m/s2\n",
    ".\n",
    "Both v and h are normalized\n",
    "\n",
    "alpha: weight of headway\n",
    "beta: weight of target speed (for all following cars, set as the speed of the car before)\n",
    "for the first car, it is always v_star in the code\n",
    "\n",
    "runs for 600 frames, 60s sec * 10 per sec\n",
    "\n",
    "collision yields -1000*8, while the initial reward is -170, -1600 before collision\n",
    "let all cars take action 1 for a collision\n",
    "I am worried if -8000 is a good solution compared with -170*(1/(1-gamma))..."
   ]
  },
  {
   "cell_type": "markdown",
   "metadata": {},
   "source": [
    "# Initialize Env from Scratch"
   ]
  },
  {
   "cell_type": "code",
   "execution_count": 2,
   "metadata": {},
   "outputs": [
    {
     "data": {
      "text/plain": [
       "['algorithms/envs/NCS/config/config_ma2c_nc_catchup.ini']"
      ]
     },
     "execution_count": 2,
     "metadata": {},
     "output_type": "execute_result"
    }
   ],
   "source": [
    "import numpy as np\n",
    "output_path = '/tmp/'\n",
    "config_path = 'algorithms/envs/NCS/config/config_ma2c_nc_catchup.ini'\n",
    "config = configparser.ConfigParser()\n",
    "config.read(config_path)"
   ]
  },
  {
   "cell_type": "code",
   "execution_count": 3,
   "metadata": {},
   "outputs": [
    {
     "name": "stdout",
     "output_type": "stream",
     "text": [
      "[-1.85454261e+02 -1.56250000e-04 -0.00000000e+00 -0.00000000e+00\n",
      " -0.00000000e+00 -0.00000000e+00 -0.00000000e+00 -0.00000000e+00]\n",
      "[-1.84623700e+02 -2.50569578e-03 -2.40957001e-09 -0.00000000e+00\n",
      " -0.00000000e+00 -0.00000000e+00 -0.00000000e+00 -0.00000000e+00]\n",
      "[-1.83245682e+02 -1.27533091e-02 -1.16288277e-07 -3.71585974e-14\n",
      " -0.00000000e+00 -0.00000000e+00 -0.00000000e+00 -0.00000000e+00]\n",
      "[-1.81329582e+02 -4.04135384e-02 -1.57782589e-06 -3.63576040e-12\n",
      " -5.73029866e-19 -0.00000000e+00 -0.00000000e+00 -0.00000000e+00]\n",
      "[-1.78888525e+02 -9.86129379e-02 -1.12261552e-05 -9.59753360e-11\n",
      " -9.44279481e-17 -8.84242393e-24 -0.00000000e+00 -0.00000000e+00]\n",
      "[-1.75939385e+02 -2.03811730e-01 -5.39056509e-05 -1.24815557e-09\n",
      " -4.11419348e-15 -2.20114670e-21 -1.13595970e-28 -0.00000000e+00]\n",
      "[-1.72502789e+02 -3.75459792e-01 -1.98622007e-04 -1.02777560e-08\n",
      " -8.56927849e-14 -1.43255618e-19 -4.69656229e-26 -0.00000000e+00]\n",
      "[-1.68603110e+02 -6.35593683e-01 -6.04860905e-04 -6.13690266e-08\n",
      " -1.09252095e-12 -4.38121581e-18 -4.33773786e-24 -0.00000000e+00]\n",
      "[-1.64268474e+02 -1.00838284e+00 -1.59526741e-03 -2.88625625e-07\n",
      " -9.76873590e-12 -8.03884876e-17 -1.83615037e-22 -1.13595970e-28]\n",
      "[-1.59530755e+02 -1.51963436e+00 -3.75991371e-03 -1.12888223e-06\n",
      " -6.67031499e-11 -1.01303012e-15 -4.59842692e-21 -6.67691870e-27]\n",
      "[-1.54425580e+02 -2.19626688e+00 -8.09572424e-03 -3.81270377e-06\n",
      " -3.68372706e-10 -9.55064629e-15 -7.79662322e-20 -2.20477157e-25]\n",
      "[-1.48992322e+02 -3.06576483e+00 -1.61823897e-02 -1.14254757e-05\n",
      " -1.71374131e-09 -7.14232078e-14 -9.75011227e-19 -4.83499791e-24]\n",
      "[-1.43274107e+02 -4.15562518e+00 -3.03934286e-02 -3.09991090e-05\n",
      " -6.92050102e-09 -4.41916919e-13 -9.53811838e-18 -7.75275963e-23]\n",
      "[-1.37317810e+02 -5.49280888e+00 -5.41381206e-02 -7.73334150e-05\n",
      " -2.48159343e-08 -2.33455666e-12 -7.61776210e-17 -9.63599023e-22]\n",
      "[-1.31174056e+02 -7.10320953e+00 -9.21270332e-02 -1.79543764e-04\n",
      " -8.04232498e-08 -1.07877291e-11 -5.12978819e-16 -9.68460398e-21]\n",
      "[-1.24897220e+02 -9.01115165e+00 -1.50651000e-01 -3.91679442e-04\n",
      " -2.38864427e-07 -4.44391223e-11 -2.98630781e-15 -8.12871131e-20]\n",
      "[-1.18545426e+02 -1.12389302e+01 -2.37860892e-01 -8.09137340e-04\n",
      " -6.57535148e-07 -1.65695617e-10 -1.53299210e-14 -5.84442906e-19]\n",
      "[-1.12180550e+02 -1.38064020e+01 -3.64033543e-01 -1.59298078e-03\n",
      " -1.69304488e-06 -5.66150013e-10 -7.05120440e-14 -3.67313776e-18]\n",
      "[-1.05868217e+02 -1.67306397e+01 -5.41807913e-01 -3.00462676e-03\n",
      " -4.10861263e-06 -1.79079793e-09 -2.94440620e-13 -2.05149731e-17]\n",
      "[-9.96778021e+01 -2.00256544e+01 -7.86375116e-01 -5.45364191e-03\n",
      " -9.45703171e-06 -5.28859128e-09 -1.12841240e-12 -1.03217567e-16]\n",
      "[-9.36824297e+01 -2.37021951e+01 -1.11560642e+00 -9.56153739e-03\n",
      " -2.07574829e-05 -1.46863587e-08 -4.00533176e-12 -4.73173537e-16]\n",
      "[-8.79589751e+01 -2.77676272e+01 -1.55010468e+00 -1.62444220e-02\n",
      " -4.36453028e-05 -3.85838630e-08 -1.32699523e-11 -1.99543190e-15]\n",
      "[-8.25880634e+01 -3.22258915e+01 -2.11316697e+00 -2.68171097e-02\n",
      " -8.82563452e-05 -9.63993797e-08 -4.13078080e-11 -7.80461625e-15]\n",
      "[-7.70783459e+01 -3.69729305e+01 -2.82928948e+00 -4.31207348e-02\n",
      " -1.72215573e-04 -2.30075489e-07 -1.21506781e-10 -2.85110160e-14]\n",
      "[-7.15523434e+01 -4.19873996e+01 -3.72272747e+00 -6.76742384e-02\n",
      " -3.25235935e-04 -5.26610289e-07 -3.39406527e-10 -9.78719530e-14]\n",
      "[-6.61203802e+01 -4.72105840e+01 -4.81776436e+00 -1.03847265e-01\n",
      " -5.95999554e-04 -1.15988137e-06 -9.04199533e-10 -3.17384910e-13]\n",
      "[-6.08426624e+01 -5.25634161e+01 -6.13848324e+00 -1.56050374e-01\n",
      " -1.06218656e-03 -2.46573543e-06 -2.30609597e-09 -9.76811683e-13]\n",
      "[-5.57735802e+01 -5.79565791e+01 -7.70831555e+00 -2.29937370e-01\n",
      " -1.84473100e-03 -5.07270828e-06 -5.64951413e-09 -2.86488314e-12]\n",
      "[-5.09612475e+01 -6.32926817e+01 -9.54959811e+00 -3.32612484e-01\n",
      " -3.12760762e-03 -1.01231647e-05 -1.33337701e-08 -8.03612315e-12]\n",
      "[-4.64470808e+01 -6.84690611e+01 -1.16831591e+01 -4.72833345e-01\n",
      " -5.18467219e-03 -1.96375372e-05 -3.03983515e-08 -2.16286189e-11]\n",
      "[-4.22653935e+01 -7.33811435e+01 -1.41279426e+01 -6.61199292e-01\n",
      " -8.41527100e-03 -3.70994224e-05 -6.71009157e-08 -5.60149161e-11]\n",
      "[-3.84430099e+01 -7.79262559e+01 -1.69006799e+01 -9.10313641e-01\n",
      " -1.33904759e-02 -6.83735442e-05 -1.43717483e-07 -1.39956457e-10]\n",
      "[-3.49989250e+01 -8.20077463e+01 -2.00156160e+01 -1.23490815e+00\n",
      " -2.09118606e-02 -1.23114191e-04 -2.99242799e-07 -3.38147815e-10]\n",
      "[-3.19440506e+01 -8.55392482e+01 -2.34842961e+01 -1.65191818e+00\n",
      " -3.20846785e-02 -2.16880911e-04 -6.06765901e-07 -7.91693879e-10]\n",
      "[-2.93351298e+01 -8.84562552e+01 -2.73154168e+01 -2.18049790e+00\n",
      " -4.84071017e-02 -3.74253107e-04 -1.20000269e-06 -1.79958474e-09]\n",
      "[-2.72959897e+01 -9.07354811e+01 -3.15147452e+01 -2.84196662e+00\n",
      " -7.18768028e-02 -6.33327421e-04 -2.31806273e-06 -3.97835643e-09]\n",
      "[-2.58619505e+01 -9.23866864e+01 -3.60851046e+01 -3.65967929e+00\n",
      " -1.05115580e-01 -1.05209242e-03 -4.37938876e-06 -8.56716263e-09]\n",
      "[-2.49583801e+01 -9.31960985e+01 -4.09702253e+01 -4.65790755e+00\n",
      " -1.51511929e-01 -1.71730391e-03 -8.10143265e-06 -1.79969457e-08]\n",
      "[-2.45143968e+01 -9.32017654e+01 -4.61277271e+01 -5.86015720e+00\n",
      " -2.15379686e-01 -2.75662948e-03 -1.46906608e-05 -3.69286161e-08]\n",
      "[-2.44628685e+01 -9.24497473e+01 -5.15501571e+01 -7.28897271e+00\n",
      " -3.02127819e-01 -4.35498837e-03 -2.61387187e-05 -7.41065615e-08]\n",
      "[-2.47404133e+01 -9.09848171e+01 -5.72008998e+01 -8.96620599e+00\n",
      " -4.18434789e-01 -6.77617366e-03 -4.56760074e-05 -1.45601062e-07]\n",
      "[-2.52873994e+01 -8.88623070e+01 -6.30358896e+01 -1.09126460e+01\n",
      " -5.72420880e-01 -1.03909962e-02 -7.84546928e-05 -2.80371357e-07]\n",
      "[-2.60479448e+01 -8.61465114e+01 -6.90035325e+01 -1.31476422e+01\n",
      " -7.73810889e-01 -1.57133171e-02 -1.32560606e-04 -5.29635162e-07]\n",
      "[-2.69699176e+01 -8.29091488e+01 -7.50448205e+01 -1.56887634e+01\n",
      " -1.03407816e+00 -2.34454203e-02 -2.20489041e-04 -9.82372132e-07]\n",
      "[-2.80049359e+01 -7.92278984e+01 -8.10936821e+01 -1.85515016e+01\n",
      " -1.36656034e+00 -3.45341996e-02 -3.61264642e-04 -1.79054551e-06]\n",
      "[-2.91083678e+01 -7.51850186e+01 -8.70776156e+01 -2.17490253e+01\n",
      " -1.78653706e+00 -5.02395656e-02 -5.83441789e-04 -3.20947109e-06]\n",
      "[-3.02393313e+01 -7.08660391e+01 -9.29186491e+01 -2.52919891e+01\n",
      " -2.31126030e+00 -7.22163015e-02 -9.29290472e-04 -5.66142688e-06]\n",
      "[-3.13606945e+01 -6.63585131e+01 -9.85346659e+01 -2.91884028e+01\n",
      " -2.95992899e+00 -1.02610281e-01 -1.46055432e-03 -9.83438311e-06]\n",
      "[-3.24390756e+01 -6.17508079e+01 -1.03841127e+02 -3.34435610e+01\n",
      " -3.75360103e+00 -1.44169496e-01 -2.26626248e-03 -1.68330290e-05]\n",
      "[-3.34448426e+01 -5.71309128e+01 -1.08753201e+02 -3.80600356e+01\n",
      " -4.71503790e+00 -2.00369700e-01 -3.47318462e-03 -2.84065681e-05]\n",
      "[-3.43521135e+01 -5.25852434e+01 -1.13188307e+02 -4.30200359e+01\n",
      " -5.86811912e+00 -2.75553671e-01 -5.25963622e-03 -4.72876502e-05]\n",
      "[-3.51387565e+01 -4.81974341e+01 -1.17069035e+02 -4.82600682e+01\n",
      " -7.23586368e+00 -3.75081771e-01 -7.87346619e-03 -7.76900251e-05]\n",
      "[-3.57863897e+01 -4.40471150e+01 -1.20326405e+02 -5.38137033e+01\n",
      " -8.83964172e+00 -5.05488399e-01 -1.16551841e-02 -1.26029896e-04]\n",
      "[-3.62803811e+01 -4.02086910e+01 -1.22878246e+02 -5.96800298e+01\n",
      " -1.06999446e+01 -6.74636490e-01 -1.70673002e-02 -2.01958474e-04]\n",
      "[-3.66098488e+01 -3.68833258e+01 -1.24456400e+02 -6.58476747e+01\n",
      " -1.28360714e+01 -8.91863211e-01 -2.47310444e-02 -3.19821958e-04]\n",
      "[-3.67676609e+01 -3.42630764e+01 -1.25121397e+02 -7.22923147e+01\n",
      " -1.52657882e+01 -1.16811007e+00 -3.54716801e-02 -5.00701222e-04]\n",
      "[-3.67504356e+01 -3.24110374e+01 -1.24898427e+02 -7.89833375e+01\n",
      " -1.80050255e+01 -1.51602915e+00 -5.03736278e-02 -7.75227932e-04]\n",
      "[-3.65585408e+01 -3.13272088e+01 -1.23825503e+02 -8.58835215e+01\n",
      " -2.10676195e+01 -1.95005683e+00 -7.08465317e-02 -1.18742772e-03]\n",
      "[-3.61960946e+01 -3.10115908e+01 -1.21951650e+02 -9.29488017e+01\n",
      " -2.44651042e+01 -2.48644662e+00 -9.87032314e-02 -1.79990502e-03]\n",
      "[-3.56709652e+01 -3.14641832e+01 -1.19335322e+02 -1.00128128e+02\n",
      " -2.82065575e+01 -3.14325345e+00 -1.36250311e-01 -2.70075881e-03]\n",
      "[-3.49947706e+01 -3.26849862e+01 -1.16042893e+02 -1.07363452e+02\n",
      " -3.22985043e+01 -3.94026279e+00 -1.86391481e-01 -4.01270304e-03]\n",
      "[-3.41828789e+01 -3.46739996e+01 -1.12147249e+02 -1.14589874e+02\n",
      " -3.67448775e+01 -4.89885985e+00 -2.52743498e-01 -5.90495944e-03]\n",
      "[-3.32544082e+01 -3.74312234e+01 -1.07726495e+02 -1.21736010e+02\n",
      " -4.15470371e+01 -6.04183589e+00 -3.39763611e-01 -8.60859084e-03]\n",
      "[-3.22322265e+01 -4.09566578e+01 -1.02862769e+02 -1.28724610e+02\n",
      " -4.66718660e+01 -7.39243633e+00 -4.52886698e-01 -1.24360466e-02]\n",
      "[-3.11429521e+01 -4.52503026e+01 -9.76411551e+01 -1.35473485e+02\n",
      " -5.20798989e+01 -8.97253173e+00 -5.98668525e-01 -1.78057930e-02]\n",
      "[-3.00169528e+01 -5.03121580e+01 -9.21486637e+01 -1.41896784e+02\n",
      " -5.77955999e+01 -1.08022841e+01 -7.84928362e-01 -2.52729919e-02]\n",
      "[-2.88449155e+01 -5.61392021e+01 -8.64732674e+01 -1.47906652e+02\n",
      " -6.38189689e+01 -1.29007548e+01 -1.02088284e+00 -3.55672587e-02]\n",
      "[-2.74343126e+01 -6.27054986e+01 -8.07029457e+01 -1.53415298e+02\n",
      " -7.01500060e+01 -1.52856145e+01 -1.31726449e+00 -4.96385603e-02]\n",
      "[-2.59378489e+01 -6.99570546e+01 -7.49247179e+01 -1.58337467e+02\n",
      " -7.67887112e+01 -1.79728419e+01 -1.68641831e+00 -6.87122878e-02]\n",
      "[-2.43799979e+01 -7.78260852e+01 -6.92236404e+01 -1.62593309e+02\n",
      " -8.37350844e+01 -2.09764629e+01 -2.14236870e+00 -9.43544456e-02]\n",
      "[-2.27858013e+01 -8.62315686e+01 -6.36817553e+01 -1.66096920e+02\n",
      " -9.09885525e+01 -2.43083375e+01 -2.70084892e+00 -1.28547720e-01]\n",
      "[ -21.18010486  -95.0801231   -58.37699414 -168.52777755  -98.53728196\n",
      "  -27.97799635   -3.37928615   -0.17377892]\n",
      "[ -19.58688064 -104.26720714  -53.53914054 -169.90680799 -106.35575027\n",
      "  -31.9925321    -4.19673594   -0.23313784]\n",
      "[ -18.02863916 -113.67862613  -49.40408849 -170.24177883 -114.412932\n",
      "  -36.356546     -5.17376135   -0.31042721]\n",
      "[ -16.52592924 -123.19232462  -46.04591479 -169.5683285  -122.67195814\n",
      "  -41.07214957   -6.33225414   -0.41028254]\n",
      "[ -15.09692569 -132.68042767  -43.46461944 -167.93339981 -131.08985596\n",
      "  -46.13902002   -7.695197     -0.53830013]\n",
      "[ -13.75710415 -142.01148678  -41.66020245 -165.39342596 -139.61734079\n",
      "  -51.48441505   -9.28475316   -0.70117048]\n",
      "[ -12.519003   -151.05287619  -40.63266381 -162.01278309 -148.1986608\n",
      "  -57.12777616  -11.12097068   -0.90681154]\n",
      "[ -11.3920727  -159.67327905  -40.38200352 -157.86237984 -156.77152918\n",
      "  -63.07460718  -13.22259739   -1.16449319]\n",
      "[ -10.3826124  -167.74519879  -40.90822159 -153.01839562 -165.26718543\n",
      "  -69.32490811  -15.60705122   -1.48494569]\n",
      "[  -9.49379294 -175.14743031  -42.211318   -147.56117004 -173.61063391\n",
      "  -75.87867894  -18.29013546   -1.88044671]\n",
      "[  -8.72576353 -181.76742718  -44.29129277 -141.57423578 -181.72111224\n",
      "  -82.73591968  -21.28578196   -2.36487978]\n",
      "[  -8.07583761 -187.5035061   -47.1481459  -135.14347732 -189.51284371\n",
      "  -89.89663033  -24.60583872   -2.95375715]\n",
      "[  -7.5387503  -192.26683691  -50.78187737 -128.35638864 -196.89612584\n",
      "  -97.36081089  -28.25990645   -3.66420045]\n",
      "[  -7.10697779 -195.98317536  -55.1924872  -121.30139482 -203.77880111\n",
      " -105.12846135  -32.25522688   -4.51487358]\n",
      "[  -6.77110644 -198.59430595  -60.37997538 -114.06719759 -210.06814477\n",
      " -113.19958172  -36.59662467   -5.52586335]\n",
      "[  -6.52023718 -200.05917304  -66.34434191 -106.74210319 -215.67318891\n",
      " -121.574172    -41.28650266   -6.71850536]\n",
      "[  -6.34241024 -200.35468855  -73.08558679  -99.41329484 -220.2646442\n",
      " -130.24214726  -46.32488924   -8.11515448]\n",
      "[  -6.22503407 -199.476215    -80.60371003  -92.16602077 -223.80543395\n",
      " -139.1807935   -51.66611227   -9.7378856 ]\n",
      "[  -6.15530339 -197.43773114  -88.89871162  -85.08268255 -226.22902925\n",
      " -148.36318184  -57.29133591  -11.60686301]\n",
      "[  -6.12059232 -194.27169525  -97.97059156  -78.36282078 -227.49086839\n",
      " -157.75832173  -63.21703034  -13.74047278]\n",
      "[  -6.10881026 -190.02862733 -107.81934986  -72.35542664 -227.596445\n",
      " -167.33090437  -69.44319555  -16.15577378]\n",
      "[  -6.10871109 -184.77643593 -118.4449865   -67.17041502 -226.58810835\n",
      " -177.04104634  -75.96983154  -18.86824386]\n",
      "[  -6.11014845 -178.5995191  -129.8475015   -62.8077859  -224.5176739\n",
      " -186.84406882  -82.79693832  -21.89153027]\n",
      "[  -6.10427305 -171.59767066 -142.02689485  -59.2675393  -221.44471644\n",
      " -196.69028655  -89.92451589  -25.23724344]\n",
      "[  -6.08367052 -163.88482435 -154.98316656  -56.54967521 -217.43516385\n",
      " -206.52479441  -97.35256423  -28.91479826]\n",
      "[  -6.04244075 -155.58766858 -168.71631661  -54.65419363 -212.56005073\n",
      " -216.28728176 -105.08108337  -32.93130584]\n",
      "[  -5.97622202 -146.84416405 -183.22634502  -53.58109455 -206.89443686\n",
      " -225.91191238 -113.11007328  -37.29151718]\n",
      "[  -5.88216463 -137.80199567 -198.51325179  -53.330378   -200.51649057\n",
      " -235.32731539 -121.43953398  -41.99781887]\n",
      "[  -5.75886032 -128.6169889  -214.5770369   -53.90204395 -193.50673195\n",
      " -244.45673911 -130.06946547  -47.05027932]\n",
      "[  -5.60623435 -119.45151917 -231.41770037  -55.29609241 -185.94742381\n",
      " -253.21842472 -138.99986774  -52.41691488]\n",
      "[  -5.42540775 -110.47294132 -249.03524219  -57.51252338 -177.92209074\n",
      " -261.3289993  -148.22240344  -58.05999411]\n",
      "[  -5.21853715 -101.85206403 -267.42966236  -60.55133687 -169.51513751\n",
      " -268.72442622 -157.71800087  -64.00110556]\n",
      "[  -4.98863957  -93.76169235 -286.60096088  -64.41253286 -160.81152989\n",
      " -275.32775909 -167.46416207  -70.24024923]\n",
      "[  -4.73940893  -85.72952532 -306.48227421  -69.09611137 -151.89649343\n",
      " -281.05835195 -177.43594525  -76.7774251 ]\n",
      "[  -4.47503071  -77.86177547 -326.89964327  -74.60207239 -142.85518234\n",
      " -285.83781413 -187.60606122  -83.6126332 ]\n",
      "[  -4.20000015  -70.35542473 -347.62446965  -80.93041592 -133.77227077\n",
      " -289.5914782  -197.94495827  -90.7458735 ]\n",
      "[-300. -300. -300. -300. -300. -300. -300. -300.]\n",
      "[-300. -300. -300. -300. -300. -300. -300. -300.]\n",
      "[-300. -300. -300. -300. -300. -300. -300. -300.]\n",
      "[-300. -300. -300. -300. -300. -300. -300. -300.]\n",
      "[-300. -300. -300. -300. -300. -300. -300. -300.]\n",
      "[-300. -300. -300. -300. -300. -300. -300. -300.]\n",
      "[-300. -300. -300. -300. -300. -300. -300. -300.]\n",
      "[-300. -300. -300. -300. -300. -300. -300. -300.]\n",
      "[-300. -300. -300. -300. -300. -300. -300. -300.]\n",
      "[-300. -300. -300. -300. -300. -300. -300. -300.]\n",
      "[-300. -300. -300. -300. -300. -300. -300. -300.]\n",
      "[-300. -300. -300. -300. -300. -300. -300. -300.]\n",
      "[-300. -300. -300. -300. -300. -300. -300. -300.]\n",
      "120\n"
     ]
    }
   ],
   "source": [
    "\n",
    "env = CACCEnv(config['ENV_CONFIG'])\n",
    "env.init_data(True, False, output_path)\n",
    "ob = env.reset()\n",
    "length = 0\n",
    "while True:\n",
    "    ob, reward, done, _ = env.step(np.array([1]*(env.n_agent)))\n",
    "    length += 1\n",
    "    print(reward)\n",
    "    if done:\n",
    "        break\n",
    "result = env.output_data()\n",
    "print(length)\n"
   ]
  },
  {
   "cell_type": "markdown",
   "metadata": {},
   "source": [
    "# Use Env Config and Wrapper"
   ]
  },
  {
   "cell_type": "code",
   "execution_count": 5,
   "metadata": {},
   "outputs": [
    {
     "ename": "SyntaxError",
     "evalue": "invalid syntax (<ipython-input-5-00fb69713368>, line 1)",
     "output_type": "error",
     "traceback": [
      "\u001b[0;36m  File \u001b[0;32m\"<ipython-input-5-00fb69713368>\"\u001b[0;36m, line \u001b[0;32m1\u001b[0m\n\u001b[0;31m    from algorithms/envs/CACC import env_name, env_fn\u001b[0m\n\u001b[0m                   ^\u001b[0m\n\u001b[0;31mSyntaxError\u001b[0m\u001b[0;31m:\u001b[0m invalid syntax\n"
     ]
    }
   ],
   "source": [
    "from algorithms.envs.CACC import env_name, env_fn"
   ]
  },
  {
   "cell_type": "code",
   "execution_count": 5,
   "metadata": {},
   "outputs": [
    {
     "ename": "NameError",
     "evalue": "name 'env_fn' is not defined",
     "output_type": "error",
     "traceback": [
      "\u001b[0;31m---------------------------------------------------------------------------\u001b[0m",
      "\u001b[0;31mNameError\u001b[0m                                 Traceback (most recent call last)",
      "\u001b[0;32m<ipython-input-5-96df390eda74>\u001b[0m in \u001b[0;36m<module>\u001b[0;34m\u001b[0m\n\u001b[0;32m----> 1\u001b[0;31m \u001b[0menv\u001b[0m \u001b[0;34m=\u001b[0m \u001b[0menv_fn\u001b[0m\u001b[0;34m(\u001b[0m\u001b[0;34m)\u001b[0m\u001b[0;34m\u001b[0m\u001b[0;34m\u001b[0m\u001b[0m\n\u001b[0m\u001b[1;32m      2\u001b[0m \u001b[0menv\u001b[0m\u001b[0;34m.\u001b[0m\u001b[0mreset\u001b[0m\u001b[0;34m(\u001b[0m\u001b[0;34m)\u001b[0m\u001b[0;34m\u001b[0m\u001b[0;34m\u001b[0m\u001b[0m\n\u001b[1;32m      3\u001b[0m \u001b[0mstate\u001b[0m\u001b[0;34m,\u001b[0m \u001b[0mreward\u001b[0m\u001b[0;34m,\u001b[0m \u001b[0mdone\u001b[0m\u001b[0;34m,\u001b[0m \u001b[0minfo\u001b[0m \u001b[0;34m=\u001b[0m \u001b[0menv\u001b[0m\u001b[0;34m.\u001b[0m\u001b[0mstep\u001b[0m\u001b[0;34m(\u001b[0m\u001b[0;34m[\u001b[0m\u001b[0;36m1\u001b[0m\u001b[0;34m]\u001b[0m\u001b[0;34m*\u001b[0m\u001b[0;36m8\u001b[0m\u001b[0;34m)\u001b[0m\u001b[0;34m\u001b[0m\u001b[0;34m\u001b[0m\u001b[0m\n\u001b[1;32m      4\u001b[0m \u001b[0;34m\u001b[0m\u001b[0m\n",
      "\u001b[0;31mNameError\u001b[0m: name 'env_fn' is not defined"
     ]
    }
   ],
   "source": [
    "env = env_fn()\n",
    "env.reset()\n",
    "state, reward, done, info = env.step([1]*8)"
   ]
  },
  {
   "cell_type": "code",
   "execution_count": null,
   "metadata": {},
   "outputs": [],
   "source": [
    "from gym.spaces import Box"
   ]
  },
  {
   "cell_type": "markdown",
   "metadata": {},
   "source": [
    "# Visualization"
   ]
  },
  {
   "cell_type": "code",
   "execution_count": 6,
   "metadata": {},
   "outputs": [
    {
     "data": {
      "image/png": "[encoded data removed]",
      "text/plain": [
       "<Figure size 432x288 with 1 Axes>"
      ]
     },
     "metadata": {
      "needs_background": "light"
     },
     "output_type": "display_data"
    }
   ],
   "source": [
    "%matplotlib inline\n",
    "import numpy as np\n",
    "import matplotlib.pyplot as plt\n",
    "\n",
    "from matplotlib import animation, rc\n",
    "from IPython.display import HTML\n",
    "# First set up the figure, the axis, and the plot element we want to animate\n",
    "fig, ax = plt.subplots()\n",
    "\n",
    "ax.set_xlim(( -2, 2))\n",
    "ax.set_ylim((-2, 2))\n",
    "\n",
    "scatter = ax.scatter([0, 1], [0, 0])\n",
    "ob = env.reset()"
   ]
  },
  {
   "cell_type": "code",
   "execution_count": null,
   "metadata": {},
   "outputs": [],
   "source": [
    "h_star = 20\n",
    "\n",
    "\n",
    "# initialization function: plot the background of each frame\n",
    "def init():\n",
    "    ob = env.reset()\n",
    "    xs = []\n",
    "    ys = [0]*8\n",
    "    tmp = 0\n",
    "    for i, item in enumerate(ob):\n",
    "        tmp -= item[-2]*h_star + h_star\n",
    "        xs += [tmp]\n",
    "    colors = ['red', 'orange', 'yellow', 'green', 'cyan', 'blue', 'purple', 'black']\n",
    "    scatter = ax.scatter(xs, ys, c=colors)\n",
    "    return (scatter,)\n",
    "\n",
    "# animation function. This is called sequentially\n",
    "\n",
    "def animate(i):\n",
    "    ob, _, done, _ = env.step([1]*(env.n_agent))\n",
    "    if done:\n",
    "        print(i, done)\n",
    "    tmp = 0\n",
    "    xs = []\n",
    "    ys = [0]*8\n",
    "    for i, item in enumerate(ob):\n",
    "        tmp -= item[-2]* h_star + h_star\n",
    "        xs += [tmp]\n",
    "    ax.clear()\n",
    "    ax.set_xlim(( -190, 0))\n",
    "    ax.set_ylim((-2, 2))\n",
    "    colors = ['red', 'orange', 'yellow', 'green', 'cyan', 'blue', 'purple', 'black']\n",
    "    scatter = ax.scatter(xs, ys, c=colors)\n",
    "    return (scatter,)\n",
    "\n",
    "# call the animator. blit=True means only re-draw the parts that have changed.\n",
    "anim = animation.FuncAnimation(fig, animate, init_func=init,\n",
    "                               frames=599, interval=100, blit=True)\n",
    "HTML(anim.to_html5_video())"
   ]
  },
  {
   "cell_type": "code",
   "execution_count": null,
   "metadata": {},
   "outputs": [],
   "source": [
    "anim.save(\"tmp.mp4\")"
   ]
  },
  {
   "cell_type": "markdown",
   "metadata": {},
   "source": [
    "# Slowdown"
   ]
  },
  {
   "cell_type": "code",
   "execution_count": null,
   "metadata": {},
   "outputs": [],
   "source": [
    "import numpy as np\n",
    "output_path = '/tmp/'\n",
    "config_path = 'algorithms/envs/NCS/config/config_ma2c_nc_slowdown.ini'\n",
    "config = configparser.ConfigParser()\n",
    "config.read(config_path)"
   ]
  },
  {
   "cell_type": "code",
   "execution_count": null,
   "metadata": {},
   "outputs": [],
   "source": [
    "env = CACCEnv(config['ENV_CONFIG'])\n",
    "env.init_data(True, False, output_path)\n",
    "ob = env.reset()\n",
    "length = 0\n",
    "while True:\n",
    "    ob, reward, done, _ = env.step(np.array([1]*(env.n_agent)))\n",
    "    length += 1\n",
    "    print(reward)\n",
    "    if done:\n",
    "        break\n",
    "result = env.output_data()\n",
    "print(length)\n"
   ]
  },
  {
   "cell_type": "code",
   "execution_count": 1,
   "metadata": {},
   "outputs": [],
   "source": [
    "import numpy as np"
   ]
  },
  {
   "cell_type": "code",
   "execution_count": 2,
   "metadata": {},
   "outputs": [],
   "source": [
    "x= np.zeros(1)"
   ]
  },
  {
   "cell_type": "code",
   "execution_count": 4,
   "metadata": {},
   "outputs": [
    {
     "data": {
      "text/plain": [
       "[0.0]"
      ]
     },
     "execution_count": 4,
     "metadata": {},
     "output_type": "execute_result"
    }
   ],
   "source": [
    "x.tolist()"
   ]
  },
  {
   "cell_type": "code",
   "execution_count": null,
   "metadata": {},
   "outputs": [],
   "source": []
  }
 ],
 "metadata": {
  "kernelspec": {
   "display_name": "Python 3",
   "language": "python",
   "name": "python3"
  },
  "language_info": {
   "codemirror_mode": {
    "name": "ipython",
    "version": 3
   },
   "file_extension": ".py",
   "mimetype": "text/x-python",
   "name": "python",
   "nbconvert_exporter": "python",
   "pygments_lexer": "ipython3",
   "version": "3.7.6"
  }
 },
 "nbformat": 4,
 "nbformat_minor": 4
}
